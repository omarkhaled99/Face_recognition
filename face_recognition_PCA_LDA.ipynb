{
  "nbformat": 4,
  "nbformat_minor": 0,
  "metadata": {
    "accelerator": "GPU",
    "colab": {
      "name": "face_recognition_PCA_LDA.ipynb",
      "provenance": [],
      "collapsed_sections": [
        "85FmOEWdNpGf",
        "5n0GGbQmNn_u",
        "QhexcATniQMe",
        "KZLGJATbhBKj",
        "TIjZeqY5fr9G"
      ],
      "include_colab_link": true
    },
    "kernelspec": {
      "display_name": "Python 3",
      "name": "python3"
    },
    "language_info": {
      "name": "python"
    }
  },
  "cells": [
    {
      "cell_type": "markdown",
      "metadata": {
        "id": "view-in-github",
        "colab_type": "text"
      },
      "source": [
        "<a href=\"https://colab.research.google.com/github/omarkhaled99/Face_recognition/blob/main/face_recognition_PCA_LDA.ipynb\" target=\"_parent\"><img src=\"https://colab.research.google.com/assets/colab-badge.svg\" alt=\"Open In Colab\"/></a>"
      ]
    },
    {
      "cell_type": "markdown",
      "metadata": {
        "id": "cmwc5Hf1L2ut"
      },
      "source": [
        "**Importing the libraries needed in the project**"
      ]
    },
    {
      "cell_type": "code",
      "metadata": {
        "id": "CjiSbah4goRa"
      },
      "source": [
        "import numpy as np\n",
        "import matplotlib.pyplot as plt\n",
        "import pandas as pd\n",
        "import scipy\n",
        "import io\n",
        "from google.colab import files\n",
        "import seaborn as sns\n",
        "import plotly.express as px\n",
        "import re\n",
        "from PIL import Image\n",
        "import sys\n",
        "import os\n",
        "import csv\n",
        "from sklearn.neighbors import KNeighborsClassifier\n",
        "from sklearn import metrics\n",
        "from sklearn.metrics import classification_report, confusion_matrix\n",
        "from sklearn.metrics import classification_report, confusion_matrix"
      ],
      "execution_count": null,
      "outputs": []
    },
    {
      "cell_type": "markdown",
      "metadata": {
        "id": "hJMXIBgaMDVS"
      },
      "source": [
        "**Unzipping the dataset after upload**"
      ]
    },
    {
      "cell_type": "code",
      "metadata": {
        "id": "m6Y4vzXIir1K"
      },
      "source": [
        "!unzip /content/archive.zip -d /content/archive\n",
        "!unzip /content/non_faces_scaled.zip -d /content/non_faces_scaled"
      ],
      "execution_count": null,
      "outputs": []
    },
    {
      "cell_type": "markdown",
      "metadata": {
        "id": "GKjDVqZ0M8Ip"
      },
      "source": [
        "# FUNCTIONS USED TO LOAD THE DATASET AND SPLIT IT"
      ]
    },
    {
      "cell_type": "markdown",
      "metadata": {
        "id": "Pb5jbCaNoBcH"
      },
      "source": [
        "**Helper function used to read the dataset and convert it to data matrix and label vector**"
      ]
    },
    {
      "cell_type": "code",
      "metadata": {
        "id": "xkFou84Tiz0J"
      },
      "source": [
        "def createFileList(myDir, format='.jpg'):\n",
        "    fileList = []\n",
        "    print(myDir)\n",
        "    for root, dirs, files in os.walk(myDir, topdown=False):\n",
        "        for name in files:\n",
        "            if name.endswith(format):a\n",
        "                fullName = os.path.join(root, name)\n",
        "                fileList.append(fullName)\n",
        "    return fileList\n",
        "myFileList = createFileList(path)\n",
        "for file in myFileList:\n",
        "  img_file = Image.open(file)\n",
        "  # get original image parameters...\n",
        "  width, height = img_file.size\n",
        "  format = img_file.format\n",
        "  mode = img_file.mode\n",
        "  # Save Greyscale values\n",
        "  value = np.asarray(img_file.getdata(), dtype=np.int).reshape((img_file.size[1], img_file.size[0]))\n",
        "  value = value.flatten()\n",
        "  images_data[count,:] = value\n"
      ],
      "execution_count": null,
      "outputs": []
    },
    {
      "cell_type": "markdown",
      "metadata": {
        "id": "Y_IzKAODMJdq"
      },
      "source": [
        "**loading the datasets to data matrices and vectors**"
      ]
    },
    {
      "cell_type": "code",
      "metadata": {
        "colab": {
          "base_uri": "https://localhost:8080/"
        },
        "id": "t5FJZso5yFZ2",
        "outputId": "f7963fed-7518-4942-acf5-d72d7bb01cf7"
      },
      "source": [
        "\n",
        "faces_data,faces_labels = load_data_set('/content/archive/archive/',0)\n",
        "non_faces_data,non_faces_labels = load_data_set('/content/non_faces_scaled/non_faces_scaled/',1)\n"
      ],
      "execution_count": null,
      "outputs": [
        {
          "output_type": "stream",
          "text": [
            "/content/archive/archive/\n",
            "/content/non_faces_scaled/non_faces_scaled/\n"
          ],
          "name": "stdout"
        }
      ]
    },
    {
      "cell_type": "markdown",
      "metadata": {
        "id": "LWNekicdMXDv"
      },
      "source": [
        "**Helper function used to split the dataset with specified ratio**"
      ]
    },
    {
      "cell_type": "code",
      "metadata": {
        "id": "7cdEl0A61G4i"
      },
      "source": [
        "def split_data_set(data_matrix,labels,ratio):\n",
        "  i = 0\n",
        "  j=0\n",
        "  k=0\n",
        "  label_test  = np.zeros(int(data_matrix.shape[0]*(1-ratio)))\n",
        "  label_train =  np.zeros(int(data_matrix.shape[0]*ratio))\n",
        "  data_test = np.zeros(shape=(int(data_matrix.shape[0]*(1-ratio)),data_matrix.shape[1]))\n",
        "  data_train = np.zeros(shape=(int(data_matrix.shape[0]*ratio),data_matrix.shape[1]))\n",
        "\n",
        "  for i in range(data_matrix.shape[0]) :\n",
        "    if ratio == 0.5:\n",
        "      if (i%2)==0:\n",
        "        data_test[j,:] = data_matrix[i]\n",
        "        label_test[j] = labels [i]\n",
        "        j = j+1\n",
        "      else:\n",
        "        data_train[k,:] = data_matrix[i]\n",
        "        label_train[k] = labels[i]\n",
        "        k=k+1\n",
        "      #i = i+1\n",
        "    else:\n",
        "      if (i%(10))<(ratio*10):\n",
        "        data_train[k,:] = data_matrix[i]\n",
        "        label_train[k] = labels[i]\n",
        "        k=k+1\n",
        "        \n",
        "      else:\n",
        "        data_test[j,:] = data_matrix[i]\n",
        "        label_test[j] = labels [i]\n",
        "        j = j+1\n",
        "      \n",
        "      #i = i+1\n",
        "  return data_test,label_test,data_train,label_train\n",
        "\n"
      ],
      "execution_count": null,
      "outputs": []
    },
    {
      "cell_type": "markdown",
      "metadata": {
        "id": "iUwNs9TdOTds"
      },
      "source": [
        "**Helper function used to merge to data matrices and label vectors**"
      ]
    },
    {
      "cell_type": "code",
      "metadata": {
        "id": "w0A87cB81Ylq"
      },
      "source": [
        "def data_merge_face_non_face(data_test_faces,label_test_faces,data_train_faces,label_train_faces,\n",
        "                             data_test_non_faces,label_test_non_faces,data_train_non_faces,label_train_non_faces):\n",
        "  data_test = np.concatenate((data_test_faces, data_test_non_faces), axis=0)\n",
        "  label_test=np.concatenate((np.ones(label_test_faces.shape[0],),label_test_non_faces),axis = 0)\n",
        "  data_train = np.concatenate((data_train_faces, data_train_non_faces), axis=0)\n",
        "  label_train=np.concatenate((np.ones(label_train_faces.shape[0],),label_train_non_faces),axis = 0)\n",
        "  return data_test,label_test,data_train,label_train"
      ],
      "execution_count": null,
      "outputs": []
    },
    {
      "cell_type": "markdown",
      "metadata": {
        "id": "85FmOEWdNpGf"
      },
      "source": [
        "# HELPER FUNCTIONS USED FOR CALCULATIONS AND PLOTTING"
      ]
    },
    {
      "cell_type": "markdown",
      "metadata": {
        "id": "MQ2x2rmTOdsl"
      },
      "source": [
        "**Helper function used to calculate the mean**"
      ]
    },
    {
      "cell_type": "code",
      "metadata": {
        "id": "st1tvoW52TBQ"
      },
      "source": [
        "def get_mean(data):\n",
        "  mean = np.mean(data,axis=0).reshape(data.shape[1],1)\n",
        "  return mean"
      ],
      "execution_count": null,
      "outputs": []
    },
    {
      "cell_type": "markdown",
      "metadata": {
        "id": "7IrXBNuwOi7v"
      },
      "source": [
        "**Helper function used to calculate the best alpha in PCA classifier**"
      ]
    },
    {
      "cell_type": "code",
      "metadata": {
        "id": "EbE7R_6o5wzQ"
      },
      "source": [
        "def best_alpha(Accuracy_PCA):\n",
        "  summ = Accuracy_PCA.sum(axis=1)\n",
        "  print(summ)\n",
        "  max_value = max(summ)\n",
        "  max_index = np.where(summ == max_value)\n",
        "  return  Accuracy_PCA[int(max_index[0]),:]"
      ],
      "execution_count": null,
      "outputs": []
    },
    {
      "cell_type": "markdown",
      "metadata": {
        "id": "5ZZ7H_oNOuvR"
      },
      "source": [
        "**Helper function used for plotting**\n",
        "\n"
      ]
    },
    {
      "cell_type": "code",
      "metadata": {
        "id": "ZImVj9nE7hz-"
      },
      "source": [
        "def Graphs(x,y,title,x_Label,y_Label):\n",
        "  plt.title(title)\n",
        "  plt.plot(x, y)\n",
        "  plt.xlabel(x_Label)\n",
        "  plt.ylabel(y_Label)\n",
        "  plt.show()"
      ],
      "execution_count": null,
      "outputs": []
    },
    {
      "cell_type": "markdown",
      "metadata": {
        "id": "x8zi2H-JEt4Y"
      },
      "source": [
        "**Helper function to get number of eigenvalues**"
      ]
    },
    {
      "cell_type": "code",
      "metadata": {
        "id": "979D0o37Ez_z"
      },
      "source": [
        "def number_LDA_eigens(eigen_values,alpha):\n",
        "  i = 0\n",
        "  sum=0\n",
        "  while sum<alpha*sumEigenValues:\n",
        "    sum+=eigen_values[i]\n",
        "    i+=1\n",
        "  R=i\n",
        "  return R\n"
      ],
      "execution_count": null,
      "outputs": []
    },
    {
      "cell_type": "markdown",
      "metadata": {
        "id": "8mipYwBIRyXT"
      },
      "source": [
        "# Classification Using PCA"
      ]
    },
    {
      "cell_type": "markdown",
      "metadata": {
        "id": "tIXmk30UhbE9"
      },
      "source": [
        "**The PCA Class**"
      ]
    },
    {
      "cell_type": "code",
      "metadata": {
        "id": "yw99MNxQna50"
      },
      "source": [
        "class PCA:\n",
        "  def __init__(self,data_train,data_test,label_train,label_test,faces_and_non_faces):\n",
        "    self.data_train = data_train\n",
        "    self.data_test = data_test\n",
        "    self.label_train = label_train\n",
        "    self.label_test = label_test\n",
        "    self.faces_and_non_faces = faces_and_non_faces\n",
        "  \n",
        "  def KNN_classifier(self,X_train,y_train,X_test,y_test,kkk):\n",
        "    classifier = KNeighborsClassifier(n_neighbors=kkk)\n",
        "    classifier.fit(X_train, y_train)\n",
        "    y_pred = classifier.predict(X_test)\n",
        "    if self.faces_and_non_faces:\n",
        "      print(\"\\nconfusion matrix\\n\",confusion_matrix(y_test, y_pred))\n",
        "      print(\"\\nclassification report\\n\",classification_report(y_test, y_pred)) \n",
        "    return metrics.accuracy_score(y_test, y_pred)\n",
        "\n",
        "  def calculate_eigen_vectors_and_values(self):\n",
        "    mean_data_train=np.mean(self.data_train ,axis=0).reshape(self.data_train .shape[1],1)\n",
        "    Z_train = self.data_train  - mean_data_train.T\n",
        "    cov = Z_train.T.dot(Z_train)/Z_train.shape[1]\n",
        "    eigen_values, eigen_vectors = np.linalg.eigh(cov)\n",
        "    eigen_values = np.flip(eigen_values)\n",
        "    eigen_vectors = np.flip(eigen_vectors,axis=1)   \n",
        "    return eigen_vectors,eigen_values\n",
        "\n",
        "  def PCA_score(self,eigen_vectors,eigen_values,KKK,alphas):\n",
        "    sumEigenValues=np.sum(eigen_values)\n",
        "    j=0\n",
        "    Accuracy=np.empty(shape=(len(alphas),len(KKK)))\n",
        "    for alpha in alphas:\n",
        "      if self.faces_and_non_faces:\n",
        "        print(\"alpha = \",alpha)\n",
        "        print()\n",
        "      sum=0\n",
        "      i=0\n",
        "      while sum<alpha*sumEigenValues:\n",
        "        sum+=eigen_values[i]\n",
        "        i+=1\n",
        "      R=i\n",
        "        #print(R)\n",
        "      U_r = np.delete(eigen_vectors,np.s_[int(R)+1:eigen_vectors.shape[1]],1)\n",
        "      X_train=np.dot(self.data_train, U_r) \n",
        "      X_test=np.dot(self.data_test, U_r)\n",
        "      y_train=self.label_train\n",
        "      y_test=self.label_test\n",
        "      counter = 0\n",
        "      for kkk in KKK:\n",
        "          #KNN call\n",
        "        if self.faces_and_non_faces:\n",
        "          print(\"k = \",kkk)\n",
        "          print()\n",
        "        Accuracy[j,counter] = self.KNN_classifier(X_train,y_train,X_test,y_test,kkk)\n",
        "        counter+=1\n",
        "      j+=1\n",
        "\n",
        "    return Accuracy"
      ],
      "execution_count": null,
      "outputs": []
    },
    {
      "cell_type": "markdown",
      "metadata": {
        "id": "EQEqHdYPcHUL"
      },
      "source": [
        "**splitting the faces data: 50% train and 50% test**"
      ]
    },
    {
      "cell_type": "code",
      "metadata": {
        "id": "Urrh_p_n2Abj"
      },
      "source": [
        "\n",
        "data_test_faces,label_test_faces,data_train_faces,label_train_faces = split_data_set(faces_data,faces_labels,0.5)"
      ],
      "execution_count": null,
      "outputs": []
    },
    {
      "cell_type": "markdown",
      "metadata": {
        "id": "T37h8BsthgDg"
      },
      "source": [
        "**running the PCA classifier for different values of alpha**"
      ]
    },
    {
      "cell_type": "code",
      "metadata": {
        "colab": {
          "base_uri": "https://localhost:8080/"
        },
        "id": "kOI7_Z8Tk6Da",
        "outputId": "63edf52a-c741-4f4a-efd9-a9bbd5892777"
      },
      "source": [
        "## faces pca classifier\n",
        "alphas=[0.8,0.85,0.9,0.95]\n",
        "k = [1]\n",
        "faces_and_non_faces = False\n",
        "PCA_classifier = PCA(data_train_faces,data_test_faces,label_train_faces,label_test_faces,faces_and_non_faces)\n",
        "eigen_vectors, eigen_values = PCA_classifier.calculate_eigen_vectors_and_values()\n",
        "Accuracy_PCA_faces = PCA_classifier.PCA_score(eigen_vectors,eigen_values,k,alphas)\n",
        "print(Accuracy_PCA_faces)\n"
      ],
      "execution_count": null,
      "outputs": [
        {
          "output_type": "stream",
          "text": [
            "[[0.94 ]\n",
            " [0.94 ]\n",
            " [0.945]\n",
            " [0.935]]\n"
          ],
          "name": "stdout"
        }
      ]
    },
    {
      "cell_type": "markdown",
      "metadata": {
        "id": "igvkDUwdq4Hw"
      },
      "source": [
        "**plotting the results**"
      ]
    },
    {
      "cell_type": "code",
      "metadata": {
        "colab": {
          "base_uri": "https://localhost:8080/",
          "height": 164
        },
        "id": "Mpiu5T4opXwG",
        "outputId": "c2b4a875-4052-4bb9-f5ed-3c8a34612768"
      },
      "source": [
        "Graphs(alphas,Accuracy_PCA_faces,\"PCA alpha values vs Accuracy\",\"alpha value\",\"performance measure (accuracy)\")"
      ],
      "execution_count": null,
      "outputs": [
        {
          "output_type": "error",
          "ename": "NameError",
          "evalue": "ignored",
          "traceback": [
            "\u001b[0;31m---------------------------------------------------------------------------\u001b[0m",
            "\u001b[0;31mNameError\u001b[0m                                 Traceback (most recent call last)",
            "\u001b[0;32m<ipython-input-12-7778e017ad73>\u001b[0m in \u001b[0;36m<module>\u001b[0;34m()\u001b[0m\n\u001b[0;32m----> 1\u001b[0;31m \u001b[0mGraphs\u001b[0m\u001b[0;34m(\u001b[0m\u001b[0malphas\u001b[0m\u001b[0;34m,\u001b[0m\u001b[0mAccuracy_PCA_faces\u001b[0m\u001b[0;34m,\u001b[0m\u001b[0;34m\"PCA alpha values vs Accuracy\"\u001b[0m\u001b[0;34m,\u001b[0m\u001b[0;34m\"alpha value\"\u001b[0m\u001b[0;34m,\u001b[0m\u001b[0;34m\"performance measure (accuracy)\"\u001b[0m\u001b[0;34m)\u001b[0m\u001b[0;34m\u001b[0m\u001b[0;34m\u001b[0m\u001b[0m\n\u001b[0m",
            "\u001b[0;31mNameError\u001b[0m: name 'alphas' is not defined"
          ]
        }
      ]
    },
    {
      "cell_type": "markdown",
      "metadata": {
        "id": "5n0GGbQmNn_u"
      },
      "source": [
        "#Classification Using LDA"
      ]
    },
    {
      "cell_type": "markdown",
      "metadata": {
        "id": "LrgH6GIPhZ-H"
      },
      "source": [
        "**LDA classifier function for more than two classes**\n",
        "\n"
      ]
    },
    {
      "cell_type": "code",
      "metadata": {
        "id": "kXMRM1ZYPo6l"
      },
      "source": [
        "def LDA (data_train,data_test,label_train,label_test,KKK,NK,mean_data_train):\n",
        "  \n",
        "  mean = np.zeros((40,data_train.shape[1]))\n",
        "  for i in range(0,data_train.shape[0],NK):\n",
        "    mean[i//NK] = np.mean(data_train[i:i+NK,:], axis=0)\n",
        "  B=np.empty((10304,10304))\n",
        "  for i in range(0,40):\n",
        "    B+=NK*np.dot((mean[i]-mean_data_train.T).T,(mean[i]-mean_data_train.T))\n",
        "\n",
        "\n",
        "\n",
        "  data_Z=np.zeros((data_train.shape[0],data_train.shape[1]))\n",
        "  j = 0\n",
        "  for i in range(0,data_train.shape[0],1):\n",
        "    data_Z[i,:] = data_train[i,:]-mean[i//NK,:]\n",
        " \n",
        "  data_Z40=np.empty((40,NK,10304))\n",
        "  for i in range(0,data_train.shape[0],NK):\n",
        "    \n",
        "    data_Z40[i//NK]=data_Z[i:i+NK,:]\n",
        "\n",
        "  S=np.empty((10304,10304))\n",
        "  for i in range(0,40,1):\n",
        "    S+=np.dot(data_Z40[i].T,data_Z40[i])\n",
        "\n",
        "\n",
        "\n",
        "  fixed_S = (np.triu_indices(len(S),1))\n",
        "  S[fixed_S] = np.tril(S,-1).T[fixed_S]\n",
        "  S_inv=np.linalg.pinv(S)\n",
        "  fixed_S_inv = (np.triu_indices(len(S_inv),1))\n",
        "  S_inv[fixed_S_inv] = np.tril(S_inv,-1).T[fixed_S_inv]\n",
        "  SB=np.dot(S_inv,B)\n",
        "  eigen_values_S, eigen_vectors_S = np.linalg.eigh(SB)\n",
        "\n",
        "  eigen_values_S =-np.sort(-eigen_values_S)\n",
        "  eigen_vectors_S = eigen_vectors_S[:,np.argsort(eigen_values_S)[::-1]]\n",
        " \n",
        " \n",
        "  U = eigen_vectors_S[:,0:40]\n",
        "  AT=np.dot(U.T,data_test.T)\n",
        "  AT = AT.T\n",
        "  A=np.dot(U.T,data_train.T)\n",
        "  A = A.T\n",
        "\n",
        "  X_train = A\n",
        "  X_test = AT\n",
        "  y_train=label_train\n",
        "  y_test=label_test\n",
        "  Accuracy=np.empty(len(KKK))\n",
        "  j=0\n",
        "  for kkk in KKK:\n",
        "    classifier = KNeighborsClassifier(n_neighbors=kkk)\n",
        "    classifier.fit(X_train, y_train)\n",
        "    y_pred = classifier.predict(X_test)\n",
        "    Accuracy[j] = metrics.accuracy_score(y_test, y_pred)\n",
        "    \n",
        "    print(confusion_matrix(y_test, y_pred))\n",
        "    print(classification_report(y_test, y_pred))  \n",
        "    j+=1\n",
        "  return Accuracy\n",
        "   "
      ],
      "execution_count": null,
      "outputs": []
    },
    {
      "cell_type": "markdown",
      "metadata": {
        "id": "xqQMqDWLh3AG"
      },
      "source": [
        "**Running the LDA classifier**"
      ]
    },
    {
      "cell_type": "code",
      "metadata": {
        "colab": {
          "base_uri": "https://localhost:8080/"
        },
        "id": "2rQMCI2QRUGc",
        "outputId": "ed137fdc-d97d-4c0b-9aae-755ba2ba1ed0"
      },
      "source": [
        "k =[1]\n",
        "Accuracy_LDA = LDA(data_train_faces,data_test_faces,label_train_faces,label_test_faces,k,5,get_mean(data_train_faces))\n",
        "print(Accuracy_LDA)"
      ],
      "execution_count": null,
      "outputs": [
        {
          "output_type": "stream",
          "text": [
            "[[4 0 0 ... 0 0 0]\n",
            " [0 5 0 ... 0 0 0]\n",
            " [0 0 5 ... 0 0 0]\n",
            " ...\n",
            " [0 0 0 ... 4 0 0]\n",
            " [0 0 0 ... 0 5 0]\n",
            " [0 0 0 ... 0 0 3]]\n",
            "              precision    recall  f1-score   support\n",
            "\n",
            "         1.0       1.00      0.80      0.89         5\n",
            "         2.0       1.00      1.00      1.00         5\n",
            "         3.0       1.00      1.00      1.00         5\n",
            "         4.0       1.00      1.00      1.00         5\n",
            "         5.0       1.00      1.00      1.00         5\n",
            "         6.0       1.00      1.00      1.00         5\n",
            "         7.0       0.62      1.00      0.77         5\n",
            "         8.0       1.00      1.00      1.00         5\n",
            "         9.0       1.00      1.00      1.00         5\n",
            "        10.0       1.00      1.00      1.00         5\n",
            "        11.0       1.00      1.00      1.00         5\n",
            "        12.0       0.83      1.00      0.91         5\n",
            "        13.0       0.83      1.00      0.91         5\n",
            "        14.0       1.00      1.00      1.00         5\n",
            "        15.0       1.00      1.00      1.00         5\n",
            "        16.0       0.83      1.00      0.91         5\n",
            "        17.0       1.00      1.00      1.00         5\n",
            "        18.0       1.00      1.00      1.00         5\n",
            "        19.0       1.00      0.80      0.89         5\n",
            "        20.0       1.00      0.80      0.89         5\n",
            "        21.0       0.71      1.00      0.83         5\n",
            "        22.0       1.00      1.00      1.00         5\n",
            "        23.0       0.83      1.00      0.91         5\n",
            "        24.0       1.00      1.00      1.00         5\n",
            "        25.0       1.00      1.00      1.00         5\n",
            "        26.0       1.00      0.80      0.89         5\n",
            "        27.0       0.83      1.00      0.91         5\n",
            "        28.0       1.00      1.00      1.00         5\n",
            "        29.0       0.83      1.00      0.91         5\n",
            "        30.0       1.00      1.00      1.00         5\n",
            "        31.0       1.00      0.60      0.75         5\n",
            "        32.0       1.00      1.00      1.00         5\n",
            "        33.0       1.00      0.80      0.89         5\n",
            "        34.0       1.00      1.00      1.00         5\n",
            "        35.0       0.60      0.60      0.60         5\n",
            "        36.0       1.00      0.60      0.75         5\n",
            "        37.0       1.00      1.00      1.00         5\n",
            "        38.0       1.00      0.80      0.89         5\n",
            "        39.0       1.00      1.00      1.00         5\n",
            "        40.0       0.75      0.60      0.67         5\n",
            "\n",
            "    accuracy                           0.93       200\n",
            "   macro avg       0.94      0.93      0.93       200\n",
            "weighted avg       0.94      0.93      0.93       200\n",
            "\n",
            "[0.93]\n"
          ],
          "name": "stdout"
        }
      ]
    },
    {
      "cell_type": "markdown",
      "metadata": {
        "id": "QhexcATniQMe"
      },
      "source": [
        "# CLASSIFIER TUNING"
      ]
    },
    {
      "cell_type": "markdown",
      "metadata": {
        "id": "q3Xueo3cikjK"
      },
      "source": [
        "**CHANGING K VALUE WITH PCA**"
      ]
    },
    {
      "cell_type": "code",
      "metadata": {
        "colab": {
          "base_uri": "https://localhost:8080/"
        },
        "id": "H46izMptiodw",
        "outputId": "39ebe269-8e37-473e-dc67-93a7c9094b75"
      },
      "source": [
        "alphas=[0.8,0.85,0.9,0.95]\n",
        "k = [1,3,5,7]\n",
        "faces_and_non_faces = False\n",
        "PCA_classifier = PCA(data_train_faces,data_test_faces,label_train_faces,label_test_faces,faces_and_non_faces)\n",
        "eigen_vectors, eigen_values = PCA_classifier.calculate_eigen_vectors_and_values()\n",
        "Accuracy_PCA_faces = PCA_classifier.PCA_score(eigen_vectors,eigen_values,k,alphas)\n",
        "print(Accuracy_PCA_faces)"
      ],
      "execution_count": null,
      "outputs": [
        {
          "output_type": "stream",
          "text": [
            "[[0.94  0.855 0.815 0.775]\n",
            " [0.94  0.855 0.83  0.77 ]\n",
            " [0.945 0.85  0.82  0.75 ]\n",
            " [0.935 0.845 0.815 0.74 ]]\n"
          ],
          "name": "stdout"
        }
      ]
    },
    {
      "cell_type": "markdown",
      "metadata": {
        "id": "9SeVR3Jfq2DL"
      },
      "source": [
        "**plotting the results**"
      ]
    },
    {
      "cell_type": "code",
      "metadata": {
        "colab": {
          "base_uri": "https://localhost:8080/",
          "height": 1000
        },
        "id": "RLZcFCEPpoM3",
        "outputId": "5b800236-adfb-40af-c945-4c5cd4acea56"
      },
      "source": [
        "i =0;\n",
        "for alpha in alphas:\n",
        "  Graphs(k,Accuracy_PCA_faces[i],\"PCA K values vs Accuracy for alpha= {}\".format(alpha),\"K value\",\"performance measure (accuracy)\")\n",
        "  i+=1"
      ],
      "execution_count": null,
      "outputs": [
        {
          "output_type": "display_data",
          "data": {
            "image/png": "[encoded data removed]",
            "text/plain": [
              "<Figure size 432x288 with 1 Axes>"
            ]
          },
          "metadata": {
            "tags": []
          }
        },
        {
          "output_type": "display_data",
          "data": {
            "image/png": "[encoded data removed]",
            "text/plain": [
              "<Figure size 432x288 with 1 Axes>"
            ]
          },
          "metadata": {
            "tags": []
          }
        },
        {
          "output_type": "display_data",
          "data": {
            "image/png": "[encoded data removed]",
            "text/plain": [
              "<Figure size 432x288 with 1 Axes>"
            ]
          },
          "metadata": {
            "tags": []
          }
        },
        {
          "output_type": "display_data",
          "data": {
            "image/png": "[encoded data removed]",
            "text/plain": [
              "<Figure size 432x288 with 1 Axes>"
            ]
          },
          "metadata": {
            "tags": []
          }
        }
      ]
    },
    {
      "cell_type": "markdown",
      "metadata": {
        "id": "1DIpARJRiwJd"
      },
      "source": [
        "**CHANGING K VALUE WITH LDA**"
      ]
    },
    {
      "cell_type": "code",
      "metadata": {
        "colab": {
          "base_uri": "https://localhost:8080/"
        },
        "id": "3bnyptcGi0cG",
        "outputId": "4b5f06bb-e26d-44a9-f7b3-c724942d7151"
      },
      "source": [
        "k =[1,3,5,7]\n",
        "Accuracy_LDA = LDA(data_train_faces,data_test_faces,label_train_faces,label_test_faces,k,5,get_mean(data_train_faces))\n",
        "print(Accuracy_LDA)"
      ],
      "execution_count": null,
      "outputs": [
        {
          "output_type": "stream",
          "text": [
            "[[3 0 0 ... 0 0 0]\n",
            " [0 5 0 ... 0 0 0]\n",
            " [0 0 5 ... 0 0 0]\n",
            " ...\n",
            " [0 0 0 ... 4 0 0]\n",
            " [0 0 0 ... 0 5 0]\n",
            " [0 0 0 ... 0 0 2]]\n",
            "              precision    recall  f1-score   support\n",
            "\n",
            "         1.0       1.00      0.60      0.75         5\n",
            "         2.0       1.00      1.00      1.00         5\n",
            "         3.0       1.00      1.00      1.00         5\n",
            "         4.0       1.00      1.00      1.00         5\n",
            "         5.0       0.62      1.00      0.77         5\n",
            "         6.0       1.00      1.00      1.00         5\n",
            "         7.0       0.71      1.00      0.83         5\n",
            "         8.0       1.00      1.00      1.00         5\n",
            "         9.0       1.00      1.00      1.00         5\n",
            "        10.0       1.00      1.00      1.00         5\n",
            "        11.0       1.00      1.00      1.00         5\n",
            "        12.0       1.00      1.00      1.00         5\n",
            "        13.0       1.00      1.00      1.00         5\n",
            "        14.0       1.00      1.00      1.00         5\n",
            "        15.0       1.00      1.00      1.00         5\n",
            "        16.0       0.83      1.00      0.91         5\n",
            "        17.0       1.00      1.00      1.00         5\n",
            "        18.0       1.00      1.00      1.00         5\n",
            "        19.0       0.80      0.80      0.80         5\n",
            "        20.0       1.00      1.00      1.00         5\n",
            "        21.0       0.83      1.00      0.91         5\n",
            "        22.0       1.00      1.00      1.00         5\n",
            "        23.0       0.83      1.00      0.91         5\n",
            "        24.0       1.00      1.00      1.00         5\n",
            "        25.0       0.83      1.00      0.91         5\n",
            "        26.0       1.00      1.00      1.00         5\n",
            "        27.0       1.00      1.00      1.00         5\n",
            "        28.0       1.00      1.00      1.00         5\n",
            "        29.0       1.00      1.00      1.00         5\n",
            "        30.0       1.00      1.00      1.00         5\n",
            "        31.0       1.00      0.80      0.89         5\n",
            "        32.0       1.00      1.00      1.00         5\n",
            "        33.0       1.00      1.00      1.00         5\n",
            "        34.0       1.00      1.00      1.00         5\n",
            "        35.0       1.00      0.60      0.75         5\n",
            "        36.0       0.75      0.60      0.67         5\n",
            "        37.0       1.00      1.00      1.00         5\n",
            "        38.0       1.00      0.80      0.89         5\n",
            "        39.0       1.00      1.00      1.00         5\n",
            "        40.0       0.67      0.40      0.50         5\n",
            "\n",
            "    accuracy                           0.94       200\n",
            "   macro avg       0.95      0.94      0.94       200\n",
            "weighted avg       0.95      0.94      0.94       200\n",
            "\n",
            "[[4 0 0 ... 0 0 0]\n",
            " [0 5 0 ... 0 0 0]\n",
            " [0 0 4 ... 0 0 0]\n",
            " ...\n",
            " [0 0 0 ... 4 0 0]\n",
            " [0 0 0 ... 0 4 0]\n",
            " [0 0 0 ... 0 0 1]]\n",
            "              precision    recall  f1-score   support\n",
            "\n",
            "         1.0       0.80      0.80      0.80         5\n",
            "         2.0       0.83      1.00      0.91         5\n",
            "         3.0       0.80      0.80      0.80         5\n",
            "         4.0       0.62      1.00      0.77         5\n",
            "         5.0       0.62      1.00      0.77         5\n",
            "         6.0       1.00      1.00      1.00         5\n",
            "         7.0       0.71      1.00      0.83         5\n",
            "         8.0       1.00      1.00      1.00         5\n",
            "         9.0       0.62      1.00      0.77         5\n",
            "        10.0       1.00      1.00      1.00         5\n",
            "        11.0       1.00      0.80      0.89         5\n",
            "        12.0       1.00      1.00      1.00         5\n",
            "        13.0       0.83      1.00      0.91         5\n",
            "        14.0       1.00      1.00      1.00         5\n",
            "        15.0       0.71      1.00      0.83         5\n",
            "        16.0       0.80      0.80      0.80         5\n",
            "        17.0       1.00      0.40      0.57         5\n",
            "        18.0       0.71      1.00      0.83         5\n",
            "        19.0       1.00      0.80      0.89         5\n",
            "        20.0       1.00      0.60      0.75         5\n",
            "        21.0       0.56      1.00      0.71         5\n",
            "        22.0       1.00      1.00      1.00         5\n",
            "        23.0       1.00      0.80      0.89         5\n",
            "        24.0       1.00      1.00      1.00         5\n",
            "        25.0       0.71      1.00      0.83         5\n",
            "        26.0       1.00      1.00      1.00         5\n",
            "        27.0       1.00      1.00      1.00         5\n",
            "        28.0       0.50      1.00      0.67         5\n",
            "        29.0       1.00      1.00      1.00         5\n",
            "        30.0       1.00      1.00      1.00         5\n",
            "        31.0       1.00      0.40      0.57         5\n",
            "        32.0       1.00      1.00      1.00         5\n",
            "        33.0       1.00      0.80      0.89         5\n",
            "        34.0       1.00      1.00      1.00         5\n",
            "        35.0       0.00      0.00      0.00         5\n",
            "        36.0       1.00      0.60      0.75         5\n",
            "        37.0       1.00      0.20      0.33         5\n",
            "        38.0       0.80      0.80      0.80         5\n",
            "        39.0       1.00      0.80      0.89         5\n",
            "        40.0       1.00      0.20      0.33         5\n",
            "\n",
            "    accuracy                           0.84       200\n",
            "   macro avg       0.87      0.84      0.82       200\n",
            "weighted avg       0.87      0.84      0.82       200\n",
            "\n",
            "[[3 1 0 ... 0 0 0]\n",
            " [0 5 0 ... 0 0 0]\n",
            " [0 0 4 ... 0 0 0]\n",
            " ...\n",
            " [0 0 0 ... 4 0 0]\n",
            " [0 0 0 ... 0 4 0]\n",
            " [0 0 0 ... 0 0 2]]\n",
            "              precision    recall  f1-score   support\n",
            "\n",
            "         1.0       0.75      0.60      0.67         5\n",
            "         2.0       0.62      1.00      0.77         5\n",
            "         3.0       1.00      0.80      0.89         5\n",
            "         4.0       0.57      0.80      0.67         5\n",
            "         5.0       0.50      0.80      0.62         5\n",
            "         6.0       1.00      1.00      1.00         5\n",
            "         7.0       0.71      1.00      0.83         5\n",
            "         8.0       1.00      1.00      1.00         5\n",
            "         9.0       0.50      1.00      0.67         5\n",
            "        10.0       1.00      1.00      1.00         5\n",
            "        11.0       1.00      1.00      1.00         5\n",
            "        12.0       1.00      1.00      1.00         5\n",
            "        13.0       0.71      1.00      0.83         5\n",
            "        14.0       1.00      1.00      1.00         5\n",
            "        15.0       0.67      0.80      0.73         5\n",
            "        16.0       0.80      0.80      0.80         5\n",
            "        17.0       1.00      0.60      0.75         5\n",
            "        18.0       0.83      1.00      0.91         5\n",
            "        19.0       1.00      0.80      0.89         5\n",
            "        20.0       1.00      0.40      0.57         5\n",
            "        21.0       0.71      1.00      0.83         5\n",
            "        22.0       1.00      1.00      1.00         5\n",
            "        23.0       0.80      0.80      0.80         5\n",
            "        24.0       1.00      1.00      1.00         5\n",
            "        25.0       0.67      0.80      0.73         5\n",
            "        26.0       1.00      0.80      0.89         5\n",
            "        27.0       1.00      1.00      1.00         5\n",
            "        28.0       0.56      1.00      0.71         5\n",
            "        29.0       0.80      0.80      0.80         5\n",
            "        30.0       0.83      1.00      0.91         5\n",
            "        31.0       1.00      0.40      0.57         5\n",
            "        32.0       1.00      0.80      0.89         5\n",
            "        33.0       1.00      0.80      0.89         5\n",
            "        34.0       1.00      1.00      1.00         5\n",
            "        35.0       0.00      0.00      0.00         5\n",
            "        36.0       1.00      0.60      0.75         5\n",
            "        37.0       1.00      0.20      0.33         5\n",
            "        38.0       0.80      0.80      0.80         5\n",
            "        39.0       0.80      0.80      0.80         5\n",
            "        40.0       0.67      0.40      0.50         5\n",
            "\n",
            "    accuracy                           0.81       200\n",
            "   macro avg       0.83      0.81      0.79       200\n",
            "weighted avg       0.83      0.81      0.79       200\n",
            "\n",
            "[[3 1 0 ... 0 0 0]\n",
            " [0 5 0 ... 0 0 0]\n",
            " [0 0 4 ... 0 0 0]\n",
            " ...\n",
            " [0 0 0 ... 4 0 0]\n",
            " [0 0 0 ... 0 5 0]\n",
            " [0 0 0 ... 0 0 1]]\n",
            "              precision    recall  f1-score   support\n",
            "\n",
            "         1.0       0.75      0.60      0.67         5\n",
            "         2.0       0.38      1.00      0.56         5\n",
            "         3.0       1.00      0.80      0.89         5\n",
            "         4.0       0.57      0.80      0.67         5\n",
            "         5.0       0.50      0.20      0.29         5\n",
            "         6.0       1.00      1.00      1.00         5\n",
            "         7.0       0.62      1.00      0.77         5\n",
            "         8.0       1.00      1.00      1.00         5\n",
            "         9.0       0.50      1.00      0.67         5\n",
            "        10.0       1.00      1.00      1.00         5\n",
            "        11.0       0.83      1.00      0.91         5\n",
            "        12.0       1.00      1.00      1.00         5\n",
            "        13.0       0.50      1.00      0.67         5\n",
            "        14.0       0.83      1.00      0.91         5\n",
            "        15.0       0.67      0.40      0.50         5\n",
            "        16.0       0.75      0.60      0.67         5\n",
            "        17.0       1.00      0.40      0.57         5\n",
            "        18.0       0.45      1.00      0.62         5\n",
            "        19.0       0.80      0.80      0.80         5\n",
            "        20.0       1.00      0.60      0.75         5\n",
            "        21.0       0.62      1.00      0.77         5\n",
            "        22.0       1.00      1.00      1.00         5\n",
            "        23.0       1.00      0.80      0.89         5\n",
            "        24.0       1.00      0.80      0.89         5\n",
            "        25.0       0.56      1.00      0.71         5\n",
            "        26.0       1.00      0.80      0.89         5\n",
            "        27.0       1.00      0.60      0.75         5\n",
            "        28.0       0.33      0.20      0.25         5\n",
            "        29.0       1.00      1.00      1.00         5\n",
            "        30.0       0.83      1.00      0.91         5\n",
            "        31.0       1.00      0.20      0.33         5\n",
            "        32.0       1.00      0.80      0.89         5\n",
            "        33.0       1.00      0.80      0.89         5\n",
            "        34.0       0.83      1.00      0.91         5\n",
            "        35.0       0.00      0.00      0.00         5\n",
            "        36.0       1.00      0.40      0.57         5\n",
            "        37.0       0.50      0.20      0.29         5\n",
            "        38.0       0.80      0.80      0.80         5\n",
            "        39.0       1.00      1.00      1.00         5\n",
            "        40.0       0.50      0.20      0.29         5\n",
            "\n",
            "    accuracy                           0.74       200\n",
            "   macro avg       0.78      0.74      0.72       200\n",
            "weighted avg       0.78      0.74      0.72       200\n",
            "\n",
            "[0.94  0.84  0.81  0.745]\n"
          ],
          "name": "stdout"
        },
        {
          "output_type": "stream",
          "text": [
            "/usr/local/lib/python3.7/dist-packages/sklearn/metrics/_classification.py:1272: UndefinedMetricWarning:\n",
            "\n",
            "Precision and F-score are ill-defined and being set to 0.0 in labels with no predicted samples. Use `zero_division` parameter to control this behavior.\n",
            "\n",
            "/usr/local/lib/python3.7/dist-packages/sklearn/metrics/_classification.py:1272: UndefinedMetricWarning:\n",
            "\n",
            "Precision and F-score are ill-defined and being set to 0.0 in labels with no predicted samples. Use `zero_division` parameter to control this behavior.\n",
            "\n",
            "/usr/local/lib/python3.7/dist-packages/sklearn/metrics/_classification.py:1272: UndefinedMetricWarning:\n",
            "\n",
            "Precision and F-score are ill-defined and being set to 0.0 in labels with no predicted samples. Use `zero_division` parameter to control this behavior.\n",
            "\n"
          ],
          "name": "stderr"
        }
      ]
    },
    {
      "cell_type": "markdown",
      "metadata": {
        "id": "Hewwjyk2q0-V"
      },
      "source": [
        "**plotting the results**"
      ]
    },
    {
      "cell_type": "code",
      "metadata": {
        "colab": {
          "base_uri": "https://localhost:8080/",
          "height": 295
        },
        "id": "ovd0mvu1psId",
        "outputId": "bd0e787e-2a8e-49e5-e309-118cb121b583"
      },
      "source": [
        "Graphs(k,Accuracy_LDA,\"LDA K values vs Accuracy\",\"K value\",\"performance measure (accuracy)\")"
      ],
      "execution_count": null,
      "outputs": [
        {
          "output_type": "display_data",
          "data": {
            "image/png": "[encoded data removed]",
            "text/plain": [
              "<Figure size 432x288 with 1 Axes>"
            ]
          },
          "metadata": {
            "tags": []
          }
        }
      ]
    },
    {
      "cell_type": "markdown",
      "metadata": {
        "id": "KZLGJATbhBKj"
      },
      "source": [
        "#**Loading the non faces dataset and merging it with the faces dataset**"
      ]
    },
    {
      "cell_type": "code",
      "metadata": {
        "id": "Zxbu8AcYhYIo"
      },
      "source": [
        "\n",
        "data_test_non_faces,label_test_non_faces,data_train_non_faces,label_train_non_faces= split_data_set(non_faces_data,non_faces_labels,0.5)\n",
        "data_test,label_test,data_train,label_train = data_merge_face_non_face(data_test_faces,label_test_faces,data_train_faces,label_train_faces,\n",
        "                                                                       data_test_non_faces,label_test_non_faces,data_train_non_faces,label_train_non_faces)"
      ],
      "execution_count": null,
      "outputs": []
    },
    {
      "cell_type": "markdown",
      "metadata": {
        "id": "TIjZeqY5fr9G"
      },
      "source": [
        "# PCA FACES VS NON FACES"
      ]
    },
    {
      "cell_type": "markdown",
      "metadata": {
        "id": "5CY5KP1fhJbe"
      },
      "source": [
        "**PCA classifier with changing the number of non faces with different values of alpha**"
      ]
    },
    {
      "cell_type": "code",
      "metadata": {
        "colab": {
          "base_uri": "https://localhost:8080/"
        },
        "id": "GtElaoNIfozt",
        "outputId": "2e6691ab-aa89-49f7-db6d-d433024706f2"
      },
      "source": [
        "## faces vs nonfaces pca classifier\n",
        "alphas=[0.8,0.85,0.9,0.95]\n",
        "k = [1]\n",
        "faces_and_non_faces = True\n",
        "nos_of_non_faces = [50,100,150,200]\n",
        "accuracies_diff_non_faces = []\n",
        "for no_of_non_faces in nos_of_non_faces:\n",
        "  print(\"faces vs nonfaces with {} non faces chosen\\n\".format(no_of_non_faces))\n",
        "  PCA_classifier = PCA(data_train[0:data_train_faces.shape[0]+no_of_non_faces,:],\n",
        "      data_test[0:data_test_faces.shape[0]+no_of_non_faces,:],\n",
        "      label_train[0:label_train_faces.shape[0]+no_of_non_faces],\n",
        "      label_test[0:label_test_faces.shape[0]+no_of_non_faces],\n",
        "      faces_and_non_faces)\n",
        "  eigen_vectors, eigen_values = PCA_classifier.calculate_eigen_vectors_and_values()\n",
        "  Accuracy_PCA = PCA_classifier.PCA_score(eigen_vectors,eigen_values,k,alphas)\n",
        "  print(Accuracy_PCA)\n",
        "  accuracies_diff_non_faces.append(Accuracy_PCA)"
      ],
      "execution_count": null,
      "outputs": [
        {
          "output_type": "stream",
          "text": [
            "faces vs nonfaces with 50 non faces chosen\n",
            "\n",
            "alpha =  0.8\n",
            "\n",
            "k =  1\n",
            "\n",
            "\n",
            "confusion matrix\n",
            " [[ 41   9]\n",
            " [  0 200]]\n",
            "\n",
            "classification report\n",
            "               precision    recall  f1-score   support\n",
            "\n",
            "         0.0       1.00      0.82      0.90        50\n",
            "         1.0       0.96      1.00      0.98       200\n",
            "\n",
            "    accuracy                           0.96       250\n",
            "   macro avg       0.98      0.91      0.94       250\n",
            "weighted avg       0.97      0.96      0.96       250\n",
            "\n",
            "alpha =  0.85\n",
            "\n",
            "k =  1\n",
            "\n",
            "\n",
            "confusion matrix\n",
            " [[ 37  13]\n",
            " [  0 200]]\n",
            "\n",
            "classification report\n",
            "               precision    recall  f1-score   support\n",
            "\n",
            "         0.0       1.00      0.74      0.85        50\n",
            "         1.0       0.94      1.00      0.97       200\n",
            "\n",
            "    accuracy                           0.95       250\n",
            "   macro avg       0.97      0.87      0.91       250\n",
            "weighted avg       0.95      0.95      0.94       250\n",
            "\n",
            "alpha =  0.9\n",
            "\n",
            "k =  1\n",
            "\n",
            "\n",
            "confusion matrix\n",
            " [[ 35  15]\n",
            " [  0 200]]\n",
            "\n",
            "classification report\n",
            "               precision    recall  f1-score   support\n",
            "\n",
            "         0.0       1.00      0.70      0.82        50\n",
            "         1.0       0.93      1.00      0.96       200\n",
            "\n",
            "    accuracy                           0.94       250\n",
            "   macro avg       0.97      0.85      0.89       250\n",
            "weighted avg       0.94      0.94      0.94       250\n",
            "\n",
            "alpha =  0.95\n",
            "\n",
            "k =  1\n",
            "\n",
            "\n",
            "confusion matrix\n",
            " [[ 34  16]\n",
            " [  0 200]]\n",
            "\n",
            "classification report\n",
            "               precision    recall  f1-score   support\n",
            "\n",
            "         0.0       1.00      0.68      0.81        50\n",
            "         1.0       0.93      1.00      0.96       200\n",
            "\n",
            "    accuracy                           0.94       250\n",
            "   macro avg       0.96      0.84      0.89       250\n",
            "weighted avg       0.94      0.94      0.93       250\n",
            "\n",
            "[[0.964]\n",
            " [0.948]\n",
            " [0.94 ]\n",
            " [0.936]]\n",
            "faces vs nonfaces with 100 non faces chosen\n",
            "\n",
            "alpha =  0.8\n",
            "\n",
            "k =  1\n",
            "\n",
            "\n",
            "confusion matrix\n",
            " [[ 85  15]\n",
            " [  0 200]]\n",
            "\n",
            "classification report\n",
            "               precision    recall  f1-score   support\n",
            "\n",
            "         0.0       1.00      0.85      0.92       100\n",
            "         1.0       0.93      1.00      0.96       200\n",
            "\n",
            "    accuracy                           0.95       300\n",
            "   macro avg       0.97      0.93      0.94       300\n",
            "weighted avg       0.95      0.95      0.95       300\n",
            "\n",
            "alpha =  0.85\n",
            "\n",
            "k =  1\n",
            "\n",
            "\n",
            "confusion matrix\n",
            " [[ 83  17]\n",
            " [  0 200]]\n",
            "\n",
            "classification report\n",
            "               precision    recall  f1-score   support\n",
            "\n",
            "         0.0       1.00      0.83      0.91       100\n",
            "         1.0       0.92      1.00      0.96       200\n",
            "\n",
            "    accuracy                           0.94       300\n",
            "   macro avg       0.96      0.92      0.93       300\n",
            "weighted avg       0.95      0.94      0.94       300\n",
            "\n",
            "alpha =  0.9\n",
            "\n",
            "k =  1\n",
            "\n",
            "\n",
            "confusion matrix\n",
            " [[ 84  16]\n",
            " [  0 200]]\n",
            "\n",
            "classification report\n",
            "               precision    recall  f1-score   support\n",
            "\n",
            "         0.0       1.00      0.84      0.91       100\n",
            "         1.0       0.93      1.00      0.96       200\n",
            "\n",
            "    accuracy                           0.95       300\n",
            "   macro avg       0.96      0.92      0.94       300\n",
            "weighted avg       0.95      0.95      0.95       300\n",
            "\n",
            "alpha =  0.95\n",
            "\n",
            "k =  1\n",
            "\n",
            "\n",
            "confusion matrix\n",
            " [[ 78  22]\n",
            " [  0 200]]\n",
            "\n",
            "classification report\n",
            "               precision    recall  f1-score   support\n",
            "\n",
            "         0.0       1.00      0.78      0.88       100\n",
            "         1.0       0.90      1.00      0.95       200\n",
            "\n",
            "    accuracy                           0.93       300\n",
            "   macro avg       0.95      0.89      0.91       300\n",
            "weighted avg       0.93      0.93      0.92       300\n",
            "\n",
            "[[0.95      ]\n",
            " [0.94333333]\n",
            " [0.94666667]\n",
            " [0.92666667]]\n",
            "faces vs nonfaces with 150 non faces chosen\n",
            "\n",
            "alpha =  0.8\n",
            "\n",
            "k =  1\n",
            "\n",
            "\n",
            "confusion matrix\n",
            " [[131  19]\n",
            " [  0 200]]\n",
            "\n",
            "classification report\n",
            "               precision    recall  f1-score   support\n",
            "\n",
            "         0.0       1.00      0.87      0.93       150\n",
            "         1.0       0.91      1.00      0.95       200\n",
            "\n",
            "    accuracy                           0.95       350\n",
            "   macro avg       0.96      0.94      0.94       350\n",
            "weighted avg       0.95      0.95      0.95       350\n",
            "\n",
            "alpha =  0.85\n",
            "\n",
            "k =  1\n",
            "\n",
            "\n",
            "confusion matrix\n",
            " [[129  21]\n",
            " [  0 200]]\n",
            "\n",
            "classification report\n",
            "               precision    recall  f1-score   support\n",
            "\n",
            "         0.0       1.00      0.86      0.92       150\n",
            "         1.0       0.90      1.00      0.95       200\n",
            "\n",
            "    accuracy                           0.94       350\n",
            "   macro avg       0.95      0.93      0.94       350\n",
            "weighted avg       0.95      0.94      0.94       350\n",
            "\n",
            "alpha =  0.9\n",
            "\n",
            "k =  1\n",
            "\n",
            "\n",
            "confusion matrix\n",
            " [[127  23]\n",
            " [  0 200]]\n",
            "\n",
            "classification report\n",
            "               precision    recall  f1-score   support\n",
            "\n",
            "         0.0       1.00      0.85      0.92       150\n",
            "         1.0       0.90      1.00      0.95       200\n",
            "\n",
            "    accuracy                           0.93       350\n",
            "   macro avg       0.95      0.92      0.93       350\n",
            "weighted avg       0.94      0.93      0.93       350\n",
            "\n",
            "alpha =  0.95\n",
            "\n",
            "k =  1\n",
            "\n",
            "\n",
            "confusion matrix\n",
            " [[121  29]\n",
            " [  0 200]]\n",
            "\n",
            "classification report\n",
            "               precision    recall  f1-score   support\n",
            "\n",
            "         0.0       1.00      0.81      0.89       150\n",
            "         1.0       0.87      1.00      0.93       200\n",
            "\n",
            "    accuracy                           0.92       350\n",
            "   macro avg       0.94      0.90      0.91       350\n",
            "weighted avg       0.93      0.92      0.92       350\n",
            "\n",
            "[[0.94571429]\n",
            " [0.94      ]\n",
            " [0.93428571]\n",
            " [0.91714286]]\n",
            "faces vs nonfaces with 200 non faces chosen\n",
            "\n",
            "alpha =  0.8\n",
            "\n",
            "k =  1\n",
            "\n",
            "\n",
            "confusion matrix\n",
            " [[180  20]\n",
            " [  0 200]]\n",
            "\n",
            "classification report\n",
            "               precision    recall  f1-score   support\n",
            "\n",
            "         0.0       1.00      0.90      0.95       200\n",
            "         1.0       0.91      1.00      0.95       200\n",
            "\n",
            "    accuracy                           0.95       400\n",
            "   macro avg       0.95      0.95      0.95       400\n",
            "weighted avg       0.95      0.95      0.95       400\n",
            "\n",
            "alpha =  0.85\n",
            "\n",
            "k =  1\n",
            "\n",
            "\n",
            "confusion matrix\n",
            " [[175  25]\n",
            " [  0 200]]\n",
            "\n",
            "classification report\n",
            "               precision    recall  f1-score   support\n",
            "\n",
            "         0.0       1.00      0.88      0.93       200\n",
            "         1.0       0.89      1.00      0.94       200\n",
            "\n",
            "    accuracy                           0.94       400\n",
            "   macro avg       0.94      0.94      0.94       400\n",
            "weighted avg       0.94      0.94      0.94       400\n",
            "\n",
            "alpha =  0.9\n",
            "\n",
            "k =  1\n",
            "\n",
            "\n",
            "confusion matrix\n",
            " [[172  28]\n",
            " [  0 200]]\n",
            "\n",
            "classification report\n",
            "               precision    recall  f1-score   support\n",
            "\n",
            "         0.0       1.00      0.86      0.92       200\n",
            "         1.0       0.88      1.00      0.93       200\n",
            "\n",
            "    accuracy                           0.93       400\n",
            "   macro avg       0.94      0.93      0.93       400\n",
            "weighted avg       0.94      0.93      0.93       400\n",
            "\n",
            "alpha =  0.95\n",
            "\n",
            "k =  1\n",
            "\n",
            "\n",
            "confusion matrix\n",
            " [[168  32]\n",
            " [  0 200]]\n",
            "\n",
            "classification report\n",
            "               precision    recall  f1-score   support\n",
            "\n",
            "         0.0       1.00      0.84      0.91       200\n",
            "         1.0       0.86      1.00      0.93       200\n",
            "\n",
            "    accuracy                           0.92       400\n",
            "   macro avg       0.93      0.92      0.92       400\n",
            "weighted avg       0.93      0.92      0.92       400\n",
            "\n",
            "[[0.95  ]\n",
            " [0.9375]\n",
            " [0.93  ]\n",
            " [0.92  ]]\n"
          ],
          "name": "stdout"
        }
      ]
    },
    {
      "cell_type": "markdown",
      "metadata": {
        "id": "crZtVuloqzAF"
      },
      "source": [
        "**plotting the results**"
      ]
    },
    {
      "cell_type": "code",
      "metadata": {
        "colab": {
          "base_uri": "https://localhost:8080/",
          "height": 1000
        },
        "id": "t0nKLFZGqHkC",
        "outputId": "1a1c75f1-e703-467b-a6df-21a32dbd096b"
      },
      "source": [
        "i=0\n",
        "for alpha in alphas:\n",
        "  Graphs(nos_of_non_faces,accuracies_diff_non_faces[i],\n",
        "  \"PCA number of non faces values vs Accuracy when alpha = {}\".format(alpha),\n",
        "  \"number of non faces \",\"performance measure (accuracy)\")\n",
        "  i+=1"
      ],
      "execution_count": null,
      "outputs": [
        {
          "output_type": "display_data",
          "data": {
            "image/png": "[encoded data removed]",
            "text/plain": [
              "<Figure size 432x288 with 1 Axes>"
            ]
          },
          "metadata": {
            "tags": []
          }
        },
        {
          "output_type": "display_data",
          "data": {
            "image/png": "[encoded data removed]",
            "text/plain": [
              "<Figure size 432x288 with 1 Axes>"
            ]
          },
          "metadata": {
            "tags": []
          }
        },
        {
          "output_type": "display_data",
          "data": {
            "image/png": "[encoded data removed]",
            "text/plain": [
              "<Figure size 432x288 with 1 Axes>"
            ]
          },
          "metadata": {
            "tags": []
          }
        },
        {
          "output_type": "display_data",
          "data": {
            "image/png": "[encoded data removed]",
            "text/plain": [
              "<Figure size 432x288 with 1 Axes>"
            ]
          },
          "metadata": {
            "tags": []
          }
        }
      ]
    },
    {
      "cell_type": "markdown",
      "metadata": {
        "id": "TgJL4w30f2bJ"
      },
      "source": [
        "# LDA FACES VS NON FACES"
      ]
    },
    {
      "cell_type": "markdown",
      "metadata": {
        "id": "LPA0nYC8iGmS"
      },
      "source": [
        "**LDA classifier function for Binary classification between two classes**"
      ]
    },
    {
      "cell_type": "code",
      "metadata": {
        "id": "gtgDrcI7pfEp"
      },
      "source": [
        "def LDA_binary (data_train,data_test,label_train,label_test,no_of_faces,KKK):\n",
        "\n",
        "    mean1 = np.mean(data_train[0:no_of_faces,:], axis=0)\n",
        "    mean2 = np.mean(data_train[no_of_faces:data_train.shape[0],:], axis=0)\n",
        "    B=np.empty((10304,10304))\n",
        " \n",
        "    m=(mean1-mean2)\n",
        " \n",
        "    m=m.reshape((1,-1))\n",
        " \n",
        "    B=np.dot(m.T,m)\n",
        "   \n",
        "    \n",
        "    z1=data_train[0:int(data_train.shape[0]),:]-mean1\n",
        "    z2=data_train[int(data_train.shape[0]):data_train.shape[0],:]-mean2\n",
        "    \n",
        "    S=z1.T.dot(z1)+z2.T.dot(z2)\n",
        "  \n",
        "    S_inv=np.linalg.inv(S)\n",
        "    \n",
        "    eigen_values_S, eigen_vectors_S = np.linalg.eigh(np.dot(S_inv,B))\n",
        "    eigen_values_S =-np.sort(-eigen_values_S)\n",
        "    eigen_vectors_S = eigen_vectors_S[:,np.argsort(eigen_values_S)[::-1]]\n",
        " \n",
        "    return eigen_vectors_S, eigen_values_S"
      ],
      "execution_count": null,
      "outputs": []
    },
    {
      "cell_type": "markdown",
      "metadata": {
        "id": "YF4SWbD7iWBB"
      },
      "source": [
        "**Helper function for projection and running the KNN algorithm**"
      ]
    },
    {
      "cell_type": "code",
      "metadata": {
        "id": "vv3Pw5rMgi5q"
      },
      "source": [
        "def  LDA_binary_projection(U,eigen_values,data_train,data_test,label_train,label_test,KKK):  \n",
        "    r = 1\n",
        "    print(\"number of eigenvectors taken:= \",r)\n",
        "    X=U[:,0:r]\n",
        "    AT=np.dot(X.T,data_test.T)\n",
        "    AT = AT.T\n",
        "    A=np.dot(X.T,data_train.T)\n",
        "    A = A.T\n",
        "    X_train =A\n",
        "    X_test = AT\n",
        "   \n",
        "    y_train=label_train\n",
        "    y_test=label_test\n",
        "  \n",
        "    Accuracy=np.empty(len(KKK))\n",
        "    j=0\n",
        "\n",
        "    for kkk in KKK:\n",
        "        classifier = KNeighborsClassifier(n_neighbors=kkk)\n",
        "        classifier.fit(X_train, y_train)\n",
        "        y_pred = classifier.predict(X_test)\n",
        "        Accuracy[j] = metrics.accuracy_score(y_test, y_pred)\n",
        "        from sklearn.metrics import classification_report, confusion_matrix\n",
        "        print(confusion_matrix(y_test, y_pred))\n",
        "        print(classification_report(y_test, y_pred))  \n",
        "    j+=1\n",
        "    return Accuracy   "
      ],
      "execution_count": null,
      "outputs": []
    },
    {
      "cell_type": "markdown",
      "metadata": {
        "id": "gsmxfJqtjeRq"
      },
      "source": [
        "**Running the LDA classifier with differnet numbers of non faces**"
      ]
    },
    {
      "cell_type": "code",
      "metadata": {
        "colab": {
          "base_uri": "https://localhost:8080/"
        },
        "id": "_xH9uQ5x9ZFO",
        "outputId": "029711fa-c575-42b8-c735-032b478692c4"
      },
      "source": [
        "## faces vs nonfaces LDA classifier\n",
        "\n",
        "k = [1]\n",
        "faces_and_non_faces = True\n",
        "nos_of_non_faces = [50,100,150,200]\n",
        "accuracies_diff_non_faces = []\n",
        "for no_of_non_faces in nos_of_non_faces:\n",
        "  print(\"faces vs nonfaces with {} non faces chosen\\n\".format(no_of_non_faces))\n",
        "  eigen_vectors,eigen_values=LDA_binary(data_train[0:data_train_faces.shape[0]+no_of_non_faces,:],\n",
        "      data_test[0:data_test_faces.shape[0]+no_of_non_faces,:],\n",
        "      label_train[0:label_train_faces.shape[0]+no_of_non_faces],\n",
        "      label_test[0:label_test_faces.shape[0]+no_of_non_faces],data_train_faces.shape[0],k)\n",
        "  \n",
        "  accuracies_diff_non_faces.append(LDA_binary_projection(eigen_vectors,eigen_values,\n",
        "      data_train[0:data_train_faces.shape[0]+no_of_non_faces,:],\n",
        "      data_test[0:data_test_faces.shape[0]+no_of_non_faces,:],\n",
        "      label_train[0:label_train_faces.shape[0]+no_of_non_faces],\n",
        "      label_test[0:label_test_faces.shape[0]+no_of_non_faces],k))\n",
        "  print(LDA_binary_projection(eigen_vectors,eigen_values,\n",
        "      data_train[0:data_train_faces.shape[0]+no_of_non_faces,:],\n",
        "      data_test[0:data_test_faces.shape[0]+no_of_non_faces,:],\n",
        "      label_train[0:label_train_faces.shape[0]+no_of_non_faces],\n",
        "      label_test[0:label_test_faces.shape[0]+no_of_non_faces],k))\n",
        " \n"
      ],
      "execution_count": null,
      "outputs": [
        {
          "output_type": "stream",
          "text": [
            "faces vs nonfaces with 50 non faces chosen\n",
            "\n",
            "number of eigenvectors taken:=  1\n",
            "[[ 31  19]\n",
            " [ 22 178]]\n",
            "              precision    recall  f1-score   support\n",
            "\n",
            "         0.0       0.58      0.62      0.60        50\n",
            "         1.0       0.90      0.89      0.90       200\n",
            "\n",
            "    accuracy                           0.84       250\n",
            "   macro avg       0.74      0.76      0.75       250\n",
            "weighted avg       0.84      0.84      0.84       250\n",
            "\n",
            "number of eigenvectors taken:=  1\n",
            "[[ 31  19]\n",
            " [ 22 178]]\n",
            "              precision    recall  f1-score   support\n",
            "\n",
            "         0.0       0.58      0.62      0.60        50\n",
            "         1.0       0.90      0.89      0.90       200\n",
            "\n",
            "    accuracy                           0.84       250\n",
            "   macro avg       0.74      0.76      0.75       250\n",
            "weighted avg       0.84      0.84      0.84       250\n",
            "\n",
            "[0.836]\n",
            "faces vs nonfaces with 100 non faces chosen\n",
            "\n",
            "number of eigenvectors taken:=  1\n",
            "[[ 62  38]\n",
            " [ 43 157]]\n",
            "              precision    recall  f1-score   support\n",
            "\n",
            "         0.0       0.59      0.62      0.60       100\n",
            "         1.0       0.81      0.79      0.79       200\n",
            "\n",
            "    accuracy                           0.73       300\n",
            "   macro avg       0.70      0.70      0.70       300\n",
            "weighted avg       0.73      0.73      0.73       300\n",
            "\n",
            "number of eigenvectors taken:=  1\n",
            "[[ 62  38]\n",
            " [ 43 157]]\n",
            "              precision    recall  f1-score   support\n",
            "\n",
            "         0.0       0.59      0.62      0.60       100\n",
            "         1.0       0.81      0.79      0.79       200\n",
            "\n",
            "    accuracy                           0.73       300\n",
            "   macro avg       0.70      0.70      0.70       300\n",
            "weighted avg       0.73      0.73      0.73       300\n",
            "\n",
            "[0.73]\n",
            "faces vs nonfaces with 150 non faces chosen\n",
            "\n",
            "number of eigenvectors taken:=  1\n",
            "[[ 93  57]\n",
            " [ 61 139]]\n",
            "              precision    recall  f1-score   support\n",
            "\n",
            "         0.0       0.60      0.62      0.61       150\n",
            "         1.0       0.71      0.69      0.70       200\n",
            "\n",
            "    accuracy                           0.66       350\n",
            "   macro avg       0.66      0.66      0.66       350\n",
            "weighted avg       0.66      0.66      0.66       350\n",
            "\n",
            "number of eigenvectors taken:=  1\n",
            "[[ 93  57]\n",
            " [ 61 139]]\n",
            "              precision    recall  f1-score   support\n",
            "\n",
            "         0.0       0.60      0.62      0.61       150\n",
            "         1.0       0.71      0.69      0.70       200\n",
            "\n",
            "    accuracy                           0.66       350\n",
            "   macro avg       0.66      0.66      0.66       350\n",
            "weighted avg       0.66      0.66      0.66       350\n",
            "\n",
            "[0.66285714]\n",
            "faces vs nonfaces with 200 non faces chosen\n",
            "\n",
            "number of eigenvectors taken:=  1\n",
            "[[130  70]\n",
            " [ 55 145]]\n",
            "              precision    recall  f1-score   support\n",
            "\n",
            "         0.0       0.70      0.65      0.68       200\n",
            "         1.0       0.67      0.72      0.70       200\n",
            "\n",
            "    accuracy                           0.69       400\n",
            "   macro avg       0.69      0.69      0.69       400\n",
            "weighted avg       0.69      0.69      0.69       400\n",
            "\n",
            "number of eigenvectors taken:=  1\n",
            "[[130  70]\n",
            " [ 55 145]]\n",
            "              precision    recall  f1-score   support\n",
            "\n",
            "         0.0       0.70      0.65      0.68       200\n",
            "         1.0       0.67      0.72      0.70       200\n",
            "\n",
            "    accuracy                           0.69       400\n",
            "   macro avg       0.69      0.69      0.69       400\n",
            "weighted avg       0.69      0.69      0.69       400\n",
            "\n",
            "[0.6875]\n"
          ],
          "name": "stdout"
        }
      ]
    },
    {
      "cell_type": "markdown",
      "metadata": {
        "id": "qT8cSZg2qtO1"
      },
      "source": [
        "**plotting the results**"
      ]
    },
    {
      "cell_type": "code",
      "metadata": {
        "id": "A3TvbfEhqfMG",
        "colab": {
          "base_uri": "https://localhost:8080/",
          "height": 295
        },
        "outputId": "c4e1fde6-43c4-4cae-ca89-e9792c3adf8c"
      },
      "source": [
        "Graphs(nos_of_non_faces,accuracies_diff_non_faces,\"LDA number of non faces values vs Accuracy\",\n",
        "       \"number of non faces \",\"performance measure (accuracy)\")"
      ],
      "execution_count": null,
      "outputs": [
        {
          "output_type": "display_data",
          "data": {
            "image/png": "[encoded data removed]",
            "text/plain": [
              "<Figure size 432x288 with 1 Axes>"
            ]
          },
          "metadata": {
            "tags": [],
            "needs_background": "light"
          }
        }
      ]
    },
    {
      "cell_type": "markdown",
      "metadata": {
        "id": "W8H3JqLHkCu0"
      },
      "source": [
        "# 70% train - 30% test"
      ]
    },
    {
      "cell_type": "markdown",
      "metadata": {
        "id": "mVUB5vcUkcqs"
      },
      "source": [
        "**Splitting the dataset with the given ratio**"
      ]
    },
    {
      "cell_type": "code",
      "metadata": {
        "id": "DoSrC9Y4kLKX"
      },
      "source": [
        "data_test_faces,label_test_faces,data_train_faces,label_train_faces = split_data_set(faces_data,faces_labels,0.7)"
      ],
      "execution_count": null,
      "outputs": []
    },
    {
      "cell_type": "code",
      "metadata": {
        "colab": {
          "base_uri": "https://localhost:8080/"
        },
        "id": "SCaCJqrYLwhm",
        "outputId": "6816ccc8-8444-4bec-e5c2-e420dad9b597"
      },
      "source": [
        "print(data_test_faces,\"\\n\")\n",
        "print(label_test_faces,\"\\n\")\n",
        "print(data_train_faces,\"\\n\")\n",
        "print(label_train_faces)"
      ],
      "execution_count": null,
      "outputs": [
        {
          "output_type": "stream",
          "text": [
            "[[ 44.  43.  32. ...  43.  43.  37.]\n",
            " [ 42.  41.  44. ...  42.  43.  41.]\n",
            " [ 34.  34.  33. ...  37.  40.  33.]\n",
            " ...\n",
            " [125. 119. 124. ...  36.  39.  40.]\n",
            " [119. 120. 120. ...  89.  94.  85.]\n",
            " [125. 124. 124. ...  36.  35.  34.]] \n",
            "\n",
            "[ 1.  1.  1.  2.  2.  2.  3.  3.  3.  4.  4.  4.  5.  5.  5.  6.  6.  6.\n",
            "  7.  7.  7.  8.  8.  8.  9.  9.  9. 10. 10. 10. 11. 11. 11. 12. 12. 12.\n",
            " 13. 13. 13. 14. 14. 14. 15. 15. 15. 16. 16. 16. 17. 17. 17. 18. 18. 18.\n",
            " 19. 19. 19. 20. 20. 20. 21. 21. 21. 22. 22. 22. 23. 23. 23. 24. 24. 24.\n",
            " 25. 25. 25. 26. 26. 26. 27. 27. 27. 28. 28. 28. 29. 29. 29. 30. 30. 30.\n",
            " 31. 31. 31. 32. 32. 32. 33. 33. 33. 34. 34. 34. 35. 35. 35. 36. 36. 36.\n",
            " 37. 37. 37. 38. 38. 38. 39. 39. 39. 40. 40. 40.] \n",
            "\n",
            "[[ 48.  49.  45. ...  47.  46.  46.]\n",
            " [ 60.  60.  62. ...  32.  34.  34.]\n",
            " [ 39.  44.  53. ...  29.  26.  29.]\n",
            " ...\n",
            " [128. 125. 125. ...  85.  90.  84.]\n",
            " [123. 121. 126. ...  40.  35.  42.]\n",
            " [129. 127. 133. ...  93.  93.  93.]] \n",
            "\n",
            "[ 1.  1.  1.  1.  1.  1.  1.  2.  2.  2.  2.  2.  2.  2.  3.  3.  3.  3.\n",
            "  3.  3.  3.  4.  4.  4.  4.  4.  4.  4.  5.  5.  5.  5.  5.  5.  5.  6.\n",
            "  6.  6.  6.  6.  6.  6.  7.  7.  7.  7.  7.  7.  7.  8.  8.  8.  8.  8.\n",
            "  8.  8.  9.  9.  9.  9.  9.  9.  9. 10. 10. 10. 10. 10. 10. 10. 11. 11.\n",
            " 11. 11. 11. 11. 11. 12. 12. 12. 12. 12. 12. 12. 13. 13. 13. 13. 13. 13.\n",
            " 13. 14. 14. 14. 14. 14. 14. 14. 15. 15. 15. 15. 15. 15. 15. 16. 16. 16.\n",
            " 16. 16. 16. 16. 17. 17. 17. 17. 17. 17. 17. 18. 18. 18. 18. 18. 18. 18.\n",
            " 19. 19. 19. 19. 19. 19. 19. 20. 20. 20. 20. 20. 20. 20. 21. 21. 21. 21.\n",
            " 21. 21. 21. 22. 22. 22. 22. 22. 22. 22. 23. 23. 23. 23. 23. 23. 23. 24.\n",
            " 24. 24. 24. 24. 24. 24. 25. 25. 25. 25. 25. 25. 25. 26. 26. 26. 26. 26.\n",
            " 26. 26. 27. 27. 27. 27. 27. 27. 27. 28. 28. 28. 28. 28. 28. 28. 29. 29.\n",
            " 29. 29. 29. 29. 29. 30. 30. 30. 30. 30. 30. 30. 31. 31. 31. 31. 31. 31.\n",
            " 31. 32. 32. 32. 32. 32. 32. 32. 33. 33. 33. 33. 33. 33. 33. 34. 34. 34.\n",
            " 34. 34. 34. 34. 35. 35. 35. 35. 35. 35. 35. 36. 36. 36. 36. 36. 36. 36.\n",
            " 37. 37. 37. 37. 37. 37. 37. 38. 38. 38. 38. 38. 38. 38. 39. 39. 39. 39.\n",
            " 39. 39. 39. 40. 40. 40. 40. 40. 40. 40.]\n"
          ],
          "name": "stdout"
        }
      ]
    },
    {
      "cell_type": "markdown",
      "metadata": {
        "id": "7rj_FRVlkiAW"
      },
      "source": [
        "**Running the PCA Classifier**"
      ]
    },
    {
      "cell_type": "code",
      "metadata": {
        "colab": {
          "base_uri": "https://localhost:8080/"
        },
        "id": "qF3dk21Jkpbe",
        "outputId": "06392363-965b-4e4f-ed51-93b247314b13"
      },
      "source": [
        "alphas=[0.8,0.85,0.9,0.95]\n",
        "k = [1]\n",
        "faces_and_non_faces = False\n",
        "PCA_classifier = PCA(data_train_faces,data_test_faces,label_train_faces,label_test_faces,faces_and_non_faces)\n",
        "eigen_vectors, eigen_values = PCA_classifier.calculate_eigen_vectors_and_values()\n",
        "Accuracy_PCA_faces = PCA_classifier.PCA_score(eigen_vectors,eigen_values,k,alphas)\n",
        "print(Accuracy_PCA_faces)"
      ],
      "execution_count": null,
      "outputs": [
        {
          "output_type": "stream",
          "text": [
            "[[0.95833333]\n",
            " [0.96666667]\n",
            " [0.95833333]\n",
            " [0.95      ]]\n"
          ],
          "name": "stdout"
        }
      ]
    },
    {
      "cell_type": "markdown",
      "metadata": {
        "id": "7Ss7lcypkq-_"
      },
      "source": [
        "**Running the LDA Classifier**"
      ]
    },
    {
      "cell_type": "code",
      "metadata": {
        "id": "K5ow0TOPkwV0"
      },
      "source": [
        "k =[1]\n",
        "Accuracy_LDA = LDA(data_train_faces,data_test_faces,label_train_faces,label_test_faces,k,7,get_mean(data_train_faces))\n",
        "print(Accuracy_LDA)"
      ],
      "execution_count": null,
      "outputs": []
    }
  ]
}